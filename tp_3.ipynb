{
 "cells": [
  {
   "cell_type": "code",
   "execution_count": 5,
   "metadata": {},
   "outputs": [],
   "source": [
    "import pandas as pd\n",
    "import scipy.stats as stats\n",
    "import numpy as np\n",
    "\n",
    "# Cargar el archivo Excel\n",
    "file_path = './Datos_examen_final_19Co2024_Grupo4.xlsx'  # Asegúrate de tener el archivo en el mismo directorio\n",
    "xls = pd.ExcelFile(file_path)\n",
    "sheet_names = xls.sheet_names"
   ]
  },
  {
   "cell_type": "markdown",
   "metadata": {},
   "source": [
    "## Literal 1\n",
    "Determinen intervalos de confianza empı́ricos para el supermercado ’Santa Ana’ en cada mes, para signifi-\n",
    "cancias del 95 % y el 99 %."
   ]
  },
  {
   "cell_type": "code",
   "execution_count": null,
   "metadata": {},
   "outputs": [],
   "source": []
  },
  {
   "cell_type": "markdown",
   "metadata": {},
   "source": [
    "## Literal 2\n",
    "Realicen pruebas ANOVA para determinar si las ventas esperadas de todas las tiendas son iguales o no,\n",
    "con significancia del 95"
   ]
  },
  {
   "cell_type": "code",
   "execution_count": null,
   "metadata": {},
   "outputs": [
    {
     "name": "stdout",
     "output_type": "stream",
     "text": [
      "Estadístico F: 74.25011138196699\n",
      "Valor p: 2.33542094320321e-58\n",
      "Con un nivel de significancia del 0.05, \n",
      "rechazamos la hipótesis nula.\n",
      " Existe evidencia suficiente para concluir que al menos una tienda tiene ventas diferentes.\n"
     ]
    }
   ],
   "source": [
    "\n",
    "# Cargar los datos de las diferentes tiendas\n",
    "santa_ana_df = xls.parse('Santa Ana')\n",
    "la_floresta_df = xls.parse('La Floresta')\n",
    "los_cedros_df = xls.parse('Los Cedros')\n",
    "palermo_df = xls.parse('Palermo')\n",
    "cordoba_df = xls.parse('Córdoba')\n",
    "\n",
    "# Extraer las ventas de cada tienda\n",
    "santa_ana_sales = santa_ana_df['Ventas']\n",
    "la_floresta_sales = la_floresta_df['Ventas']\n",
    "los_cedros_sales = los_cedros_df['Ventas']\n",
    "palermo_sales = palermo_df['Ventas']\n",
    "cordoba_sales = cordoba_df['Ventas']\n",
    "\n",
    "# Realizar la prueba ANOVA\n",
    "f_statistic, p_value = stats.f_oneway(santa_ana_sales, la_floresta_sales, los_cedros_sales, palermo_sales, cordoba_sales)\n",
    "\n",
    "# Mostrar el resultado\n",
    "print(\"Estadístico F:\", f_statistic)\n",
    "print(\"Valor p:\", p_value)\n",
    "\n",
    "significance_level = 0.05\n",
    "\n",
    "\n",
    "\n"
   ]
  },
  {
   "cell_type": "markdown",
   "metadata": {},
   "source": [
    "## respuesta\n",
    "\n",
    "Dado que el literal indica usar un nivel de signficancia de 0.05 el cual es mucho mayor que nuestro valor de 2.33e-58, se rechaza la hipotesis nula, lo que indica que existe al menos una tienda cuyo promedio de ventas mensuales difiere al de las demas "
   ]
  },
  {
   "cell_type": "markdown",
   "metadata": {},
   "source": [
    "## Literal 3\n",
    "Identifiquen la tienda con mayor promedio de ventas y la tienda con menor promedio de ventas y realicen\n",
    "una prueba de hipótesis para determinar si la diferencia entre ellas es distinta de cero o no."
   ]
  },
  {
   "cell_type": "code",
   "execution_count": null,
   "metadata": {},
   "outputs": [],
   "source": []
  }
 ],
 "metadata": {
  "kernelspec": {
   "display_name": "CI_env",
   "language": "python",
   "name": "python3"
  },
  "language_info": {
   "codemirror_mode": {
    "name": "ipython",
    "version": 3
   },
   "file_extension": ".py",
   "mimetype": "text/x-python",
   "name": "python",
   "nbconvert_exporter": "python",
   "pygments_lexer": "ipython3",
   "version": "3.10.11"
  }
 },
 "nbformat": 4,
 "nbformat_minor": 2
}
